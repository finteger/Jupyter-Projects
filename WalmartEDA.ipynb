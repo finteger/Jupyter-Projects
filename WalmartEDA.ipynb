{
 "cells": [
  {
   "cell_type": "code",
   "execution_count": null,
   "metadata": {},
   "outputs": [],
   "source": [
    "import pandas as pd\n",
    "import matplotlib.pyplot as plt\n",
    "\n",
    "\n",
    "# Read a csv file and delimit & enclose the fields\n",
    "df = pd.read_csv('walmart.csv', delimiter=';', quotechar='\"')\n",
    "\n",
    "# Inspect the head (first 5 records of the DataFrame)\n",
    "print(df.head())\n",
    "\n",
    "# Plot total sales by customer_type if the 'customer_type' column exists\n",
    "if 'customer_type' in df.columns:\n",
    "    #the figure specifies the width & height of the visual\n",
    "    plt.figure(figsize=(14,6))\n",
    "    #grouping by customer_type and summing the 'total' column for each group\n",
    "    df.groupby('customer_type')['total'].sum().plot(kind='bar', color='skyblue')\n",
    "    \n",
    "    #adding title and labels to the plot\n",
    "    plt.title('Total Sales by Customer Type')\n",
    "    plt.xlabel('Customer Type')\n",
    "    plt.ylabel('Total Sales')\n",
    "    \n",
    "    #call the show method\n",
    "    plt.show()\n",
    "else:\n",
    "    print(\"Customer_Type column not found in the dataset.\")\n",
    "\n",
    "\n"
   ]
  }
 ],
 "metadata": {
  "language_info": {
   "name": "python"
  }
 },
 "nbformat": 4,
 "nbformat_minor": 2
}
