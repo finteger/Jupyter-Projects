{
 "cells": [
  {
   "cell_type": "code",
   "execution_count": 7,
   "id": "35dd037e",
   "metadata": {},
   "outputs": [
    {
     "name": "stdout",
     "output_type": "stream",
     "text": [
      "    invoice_id branch       city customer_type  gender  \\\n",
      "0  750-67-8428      A     Yangon        Member  Female   \n",
      "1  226-31-3081      C  Naypyitaw        Normal  Female   \n",
      "2  631-41-3108      A     Yangon        Normal    Male   \n",
      "3  123-19-1176      A     Yangon        Member    Male   \n",
      "4  373-73-7910      A     Yangon        Normal    Male   \n",
      "\n",
      "             product_line  unit_price  quantity      vat     total  \\\n",
      "0       Health and beauty       74.69         7  26.1415  548.9715   \n",
      "1  Electronic accessories       15.28         5   3.8200   80.2200   \n",
      "2      Home and lifestyle       46.33         7  16.2155  340.5255   \n",
      "3       Health and beauty       58.22         8  23.2880  489.0480   \n",
      "4       Sports and travel       86.31         7  30.2085  634.3785   \n",
      "\n",
      "                  dtme       tme payment_method    cogs  gross_margin_pct  \\\n",
      "0  2019-01-05 00:00:00  13:08:00        Ewallet  522.83            4.7619   \n",
      "1  2019-03-08 00:00:00  10:29:00           Cash   76.40            4.7619   \n",
      "2  2019-03-03 00:00:00  13:23:00    Credit card  324.31            4.7619   \n",
      "3  2019-01-27 00:00:00  20:33:00        Ewallet  465.76            4.7619   \n",
      "4  2019-02-08 00:00:00  10:37:00        Ewallet  604.17            4.7619   \n",
      "\n",
      "   gross_income  rating time_of_day  day_name month_name  \n",
      "0       26.1415     9.1   afternoon  Saturday    January  \n",
      "1        3.8200     9.6     morning    Friday      March  \n",
      "2       16.2155     7.4   afternoon    Sunday      March  \n",
      "3       23.2880     8.4     evening    Sunday    January  \n",
      "4       30.2085     5.3     morning    Friday   February  \n"
     ]
    },
    {
     "ename": "AttributeError",
     "evalue": "'DataFrame' object has no attribute 'rows'",
     "output_type": "error",
     "traceback": [
      "\u001b[1;31m---------------------------------------------------------------------------\u001b[0m",
      "\u001b[1;31mAttributeError\u001b[0m                            Traceback (most recent call last)",
      "\u001b[1;32m~\\AppData\\Local\\Temp\\ipykernel_12668\\1279459657.py\u001b[0m in \u001b[0;36m?\u001b[1;34m()\u001b[0m\n\u001b[0;32m     10\u001b[0m \u001b[1;33m\u001b[0m\u001b[0m\n\u001b[0;32m     11\u001b[0m \u001b[1;31m# Plot total sales by customer_type if the 'customer_type' column exists\u001b[0m\u001b[1;33m\u001b[0m\u001b[1;33m\u001b[0m\u001b[0m\n\u001b[0;32m     12\u001b[0m \u001b[1;31m#if 'customer_type' in df.columns\u001b[0m\u001b[1;33m\u001b[0m\u001b[1;33m\u001b[0m\u001b[0m\n\u001b[0;32m     13\u001b[0m \u001b[1;33m\u001b[0m\u001b[0m\n\u001b[1;32m---> 14\u001b[1;33m \u001b[0mprint\u001b[0m\u001b[1;33m(\u001b[0m\u001b[0mdf\u001b[0m\u001b[1;33m.\u001b[0m\u001b[0mrows\u001b[0m\u001b[1;33m)\u001b[0m\u001b[1;33m\u001b[0m\u001b[1;33m\u001b[0m\u001b[0m\n\u001b[0m\u001b[0;32m     15\u001b[0m \u001b[1;33m\u001b[0m\u001b[0m\n",
      "\u001b[1;32m~\\anaconda3\\Lib\\site-packages\\pandas\\core\\generic.py\u001b[0m in \u001b[0;36m?\u001b[1;34m(self, name)\u001b[0m\n\u001b[0;32m   5985\u001b[0m             \u001b[1;32mand\u001b[0m \u001b[0mname\u001b[0m \u001b[1;32mnot\u001b[0m \u001b[1;32min\u001b[0m \u001b[0mself\u001b[0m\u001b[1;33m.\u001b[0m\u001b[0m_accessors\u001b[0m\u001b[1;33m\u001b[0m\u001b[1;33m\u001b[0m\u001b[0m\n\u001b[0;32m   5986\u001b[0m             \u001b[1;32mand\u001b[0m \u001b[0mself\u001b[0m\u001b[1;33m.\u001b[0m\u001b[0m_info_axis\u001b[0m\u001b[1;33m.\u001b[0m\u001b[0m_can_hold_identifiers_and_holds_name\u001b[0m\u001b[1;33m(\u001b[0m\u001b[0mname\u001b[0m\u001b[1;33m)\u001b[0m\u001b[1;33m\u001b[0m\u001b[1;33m\u001b[0m\u001b[0m\n\u001b[0;32m   5987\u001b[0m         ):\n\u001b[0;32m   5988\u001b[0m             \u001b[1;32mreturn\u001b[0m \u001b[0mself\u001b[0m\u001b[1;33m[\u001b[0m\u001b[0mname\u001b[0m\u001b[1;33m]\u001b[0m\u001b[1;33m\u001b[0m\u001b[1;33m\u001b[0m\u001b[0m\n\u001b[1;32m-> 5989\u001b[1;33m         \u001b[1;32mreturn\u001b[0m \u001b[0mobject\u001b[0m\u001b[1;33m.\u001b[0m\u001b[0m__getattribute__\u001b[0m\u001b[1;33m(\u001b[0m\u001b[0mself\u001b[0m\u001b[1;33m,\u001b[0m \u001b[0mname\u001b[0m\u001b[1;33m)\u001b[0m\u001b[1;33m\u001b[0m\u001b[1;33m\u001b[0m\u001b[0m\n\u001b[0m",
      "\u001b[1;31mAttributeError\u001b[0m: 'DataFrame' object has no attribute 'rows'"
     ]
    }
   ],
   "source": [
    "import pandas as pd\n",
    "import matplotlib as plt\n",
    "\n",
    "\n",
    "# Read a csv file and delimit & enclose the fields\n",
    "df = pd.read_csv('walmart.csv', delimiter=';', quotechar='\"')\n",
    "\n",
    "# Inspect the head (first 5 records of the DataFrame)\n",
    "print(df.head())\n",
    "\n",
    "# Plot total sales by customer_type if the 'customer_type' column exists\n",
    "if 'customer_type' in df.columns\n",
    "    #the figure specifies the width & height of the visual\n",
    "    plt.figure(figure=(10,6))\n",
    "    #grouping by customer_type and summing the 'total' column for each group\n",
    "    df.groupby('customer_type')['total'].sum().plot(kind='bar', color='skyblue')\n",
    "    \n",
    "    #adding title and labels to the plot\n",
    "    plt.title('Total Sales by Customer Type')\n",
    "    plt.xlabel('Customer Type')\n",
    "    plt.ylabel('Total Sales')\n",
    "    \n",
    "    #call the show method\n",
    "    plt.show()\n",
    "else:\n",
    "    print(\"Customer_Type column not found in the dataset.\")\n",
    "\n",
    "\n"
   ]
  },
  {
   "cell_type": "code",
   "execution_count": null,
   "id": "a005c21e",
   "metadata": {},
   "outputs": [],
   "source": []
  }
 ],
 "metadata": {
  "kernelspec": {
   "display_name": "Python 3 (ipykernel)",
   "language": "python",
   "name": "python3"
  },
  "language_info": {
   "codemirror_mode": {
    "name": "ipython",
    "version": 3
   },
   "file_extension": ".py",
   "mimetype": "text/x-python",
   "name": "python",
   "nbconvert_exporter": "python",
   "pygments_lexer": "ipython3",
   "version": "3.11.5"
  }
 },
 "nbformat": 4,
 "nbformat_minor": 5
}
